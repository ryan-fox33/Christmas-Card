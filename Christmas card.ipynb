{
 "cells": [
  {
   "cell_type": "code",
   "execution_count": 1,
   "id": "6921d9fd",
   "metadata": {},
   "outputs": [
    {
     "name": "stdout",
     "output_type": "stream",
     "text": [
      "Requirement already satisfied: pygame in c:\\users\\rfoxc\\python program\\lib\\site-packages (2.1.2)\n"
     ]
    }
   ],
   "source": [
    "!pip install pygame"
   ]
  },
  {
   "cell_type": "code",
   "execution_count": null,
   "id": "5e4192ff",
   "metadata": {},
   "outputs": [
    {
     "name": "stdout",
     "output_type": "stream",
     "text": [
      "pygame 2.1.2 (SDL 2.0.18, Python 3.9.12)\n",
      "Hello from the pygame community. https://www.pygame.org/contribute.html\n",
      "Press 'P' to pause, 'r' to resume, 'e' exit the program\n",
      " e\n"
     ]
    }
   ],
   "source": [
    "import pygame\n",
    "from pygame import mixer\n",
    "pygame.init()\n",
    "\n",
    "#Create the game window \n",
    "WIDTH=800\n",
    "HEIGHT=700\n",
    "\n",
    "surface=pygame.display.set_mode((WIDTH, HEIGHT))\n",
    "######################################\n",
    "pygame.display.set_caption(\"Merry Christmas\")\n",
    "\n",
    "img=pygame.image.load(\"FrostyChristmas.jpg\").convert()\n",
    "\n",
    "resized_image=pygame.transform.scale(img, (800,700))\n",
    "\n",
    "x=0\n",
    "y=0\n",
    "\n",
    "surface.blit(resized_image, (x,y))\n",
    "\n",
    "pygame.display.flip()\n",
    "\n",
    "\n",
    "mixer.init()\n",
    "\n",
    "mixer.music.load(\"Frostymusic.mp3\")\n",
    "\n",
    "mixer.music.set_volume(0.7)\n",
    "\n",
    "#start playing the song \n",
    "mixer.music.play()\n",
    "\n",
    "while True:\n",
    "    print(\"Press 'P' to pause, 'r' to resume, 'e' exit the program\")\n",
    "    query=input(\" \")\n",
    "    \n",
    "    if query=='p':\n",
    "        mixer.music.pause()\n",
    "    elif query== 'r':\n",
    "        mixer.music.unpause()\n",
    "    elif query== 'e':\n",
    "        mixer.music.stop()\n",
    "        break\n",
    "\n",
    "active=True\n",
    "\n",
    "while active:\n",
    "    for event in pygame.event.get():\n",
    "        if event.type==pygame.QUIT:\n",
    "            active=False\n",
    "pygame.quit()"
   ]
  },
  {
   "cell_type": "code",
   "execution_count": null,
   "id": "c275b0ca",
   "metadata": {},
   "outputs": [],
   "source": []
  },
  {
   "cell_type": "code",
   "execution_count": null,
   "id": "0e233c99",
   "metadata": {},
   "outputs": [],
   "source": []
  }
 ],
 "metadata": {
  "kernelspec": {
   "display_name": "Python 3 (ipykernel)",
   "language": "python",
   "name": "python3"
  },
  "language_info": {
   "codemirror_mode": {
    "name": "ipython",
    "version": 3
   },
   "file_extension": ".py",
   "mimetype": "text/x-python",
   "name": "python",
   "nbconvert_exporter": "python",
   "pygments_lexer": "ipython3",
   "version": "3.9.12"
  }
 },
 "nbformat": 4,
 "nbformat_minor": 5
}
